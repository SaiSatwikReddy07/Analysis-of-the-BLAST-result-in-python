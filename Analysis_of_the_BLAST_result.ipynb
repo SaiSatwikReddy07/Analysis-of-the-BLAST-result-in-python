{
  "cells": [
    {
      "cell_type": "code",
      "execution_count": 1,
      "metadata": {
        "colab": {
          "base_uri": "https://localhost:8080/"
        },
        "id": "hIsjlrqxAQeX",
        "outputId": "d57e4c67-8739-486e-a4e3-5e78175a7142"
      },
      "outputs": [
        {
          "output_type": "stream",
          "name": "stdout",
          "text": [
            "Looking in indexes: https://pypi.org/simple, https://us-python.pkg.dev/colab-wheels/public/simple/\n",
            "Collecting Bio\n",
            "  Downloading bio-1.5.3-py3-none-any.whl (272 kB)\n",
            "\u001b[K     |████████████████████████████████| 272 kB 4.9 MB/s \n",
            "\u001b[?25hRequirement already satisfied: tqdm in /usr/local/lib/python3.8/dist-packages (from Bio) (4.64.1)\n",
            "Collecting biopython>=1.80\n",
            "  Downloading biopython-1.80-cp38-cp38-manylinux_2_17_x86_64.manylinux2014_x86_64.whl (3.1 MB)\n",
            "\u001b[K     |████████████████████████████████| 3.1 MB 66.6 MB/s \n",
            "\u001b[?25hRequirement already satisfied: requests in /usr/local/lib/python3.8/dist-packages (from Bio) (2.23.0)\n",
            "Collecting mygene\n",
            "  Downloading mygene-3.2.2-py2.py3-none-any.whl (5.4 kB)\n",
            "Requirement already satisfied: numpy in /usr/local/lib/python3.8/dist-packages (from biopython>=1.80->Bio) (1.21.6)\n",
            "Collecting biothings-client>=0.2.6\n",
            "  Downloading biothings_client-0.2.6-py2.py3-none-any.whl (37 kB)\n",
            "Requirement already satisfied: chardet<4,>=3.0.2 in /usr/local/lib/python3.8/dist-packages (from requests->Bio) (3.0.4)\n",
            "Requirement already satisfied: certifi>=2017.4.17 in /usr/local/lib/python3.8/dist-packages (from requests->Bio) (2022.12.7)\n",
            "Requirement already satisfied: idna<3,>=2.5 in /usr/local/lib/python3.8/dist-packages (from requests->Bio) (2.10)\n",
            "Requirement already satisfied: urllib3!=1.25.0,!=1.25.1,<1.26,>=1.21.1 in /usr/local/lib/python3.8/dist-packages (from requests->Bio) (1.24.3)\n",
            "Installing collected packages: biothings-client, mygene, biopython, Bio\n",
            "Successfully installed Bio-1.5.3 biopython-1.80 biothings-client-0.2.6 mygene-3.2.2\n"
          ]
        }
      ],
      "source": [
        "# Install the package\n",
        "!pip install Bio"
      ]
    },
    {
      "cell_type": "code",
      "execution_count": 2,
      "metadata": {
        "colab": {
          "base_uri": "https://localhost:8080/"
        },
        "id": "mQu4Lu5d03fP",
        "outputId": "db8df44f-d36a-4abf-a086-5795aba54fec"
      },
      "outputs": [
        {
          "output_type": "stream",
          "name": "stdout",
          "text": [
            "Maximum score 577.0\n"
          ]
        }
      ],
      "source": [
        "# Maximum Score\n",
        "from Bio.Blast import NCBIWWW, NCBIXML\n",
        "\n",
        "# Perform the BLAST search\n",
        "result_handle = NCBIWWW.qblast(\"blastp\", \"nr\", \"P01308\")\n",
        "\n",
        "# Parse the results\n",
        "blast_records = NCBIXML.parse(result_handle)\n",
        "\n",
        "for blast_record in blast_records:\n",
        "    # Find the maximum score among all the hits in the record\n",
        "    max_score = max(hit.hsps[0].score for hit in blast_record.alignments)\n",
        "    print(\"Maximum score\", max_score)"
      ]
    },
    {
      "cell_type": "code",
      "execution_count": 3,
      "metadata": {
        "colab": {
          "base_uri": "https://localhost:8080/"
        },
        "id": "LpS8Ax9sdslA",
        "outputId": "d2697fe7-bd25-49d0-a723-92e61f95aee7"
      },
      "outputs": [
        {
          "output_type": "stream",
          "name": "stdout",
          "text": [
            "Total score: 25416.0\n"
          ]
        }
      ],
      "source": [
        "# Total Score\n",
        "from Bio.Blast import NCBIWWW, NCBIXML\n",
        "\n",
        "# Perform the BLAST search\n",
        "result_handle = NCBIWWW.qblast(\"blastp\", \"nr\", \"P01308\")\n",
        "\n",
        "# Parse the results\n",
        "blast_records = NCBIXML.parse(result_handle)\n",
        "# Iterate through each record in the BLAST result\n",
        "for blast_record in blast_records:\n",
        "    # Initialize the total score to 0\n",
        "    total_score = 0   \n",
        "    # Iterate through each hit in the record\n",
        "    for hit in blast_record.alignments:\n",
        "        # Add the score of the first HSP (high-scoring pair) to the total score\n",
        "        total_score += hit.hsps[0].score\n",
        "print(\"Total score:\", total_score)"
      ]
    },
    {
      "cell_type": "code",
      "execution_count": 4,
      "metadata": {
        "colab": {
          "base_uri": "https://localhost:8080/"
        },
        "id": "YFcvOXqcPd6e",
        "outputId": "82da1115-2fe3-4be0-fdb9-3531a7f7cf7a"
      },
      "outputs": [
        {
          "output_type": "stream",
          "name": "stdout",
          "text": [
            "Percent query coverage: 100.0\n"
          ]
        }
      ],
      "source": [
        "# Percent Query Coverage\n",
        "from Bio.Blast import NCBIWWW, NCBIXML\n",
        "\n",
        "# Perform the BLAST search\n",
        "result_handle = NCBIWWW.qblast(\"blastp\", \"nr\", \"P01308\")\n",
        "\n",
        "# Parse the results\n",
        "blast_records = NCBIXML.parse(result_handle)\n",
        "for blast_record in blast_records:\n",
        "    # find the total length of the query sequence\n",
        "    query_length = blast_record.query_length\n",
        "    # find the total length of the aligned region\n",
        "    aligned_length = sum([hsp.align_length for hsp in blast_record.alignments[0].hsps])\n",
        "    # calculate the percent query coverage\n",
        "    percent_coverage = (aligned_length / query_length) * 100\n",
        "\n",
        "print(\"Percent query coverage:\", percent_coverage)"
      ]
    },
    {
      "cell_type": "code",
      "execution_count": 5,
      "metadata": {
        "colab": {
          "base_uri": "https://localhost:8080/"
        },
        "id": "BvcgjRAhQek9",
        "outputId": "71ec0213-203d-4678-b231-e1402b82bc9f"
      },
      "outputs": [
        {
          "output_type": "stream",
          "name": "stdout",
          "text": [
            "E-value: 5.73864e-74\n"
          ]
        }
      ],
      "source": [
        "# E - Value\n",
        "from Bio.Blast import NCBIWWW, NCBIXML\n",
        "\n",
        "# Perform the BLAST search\n",
        "result_handle = NCBIWWW.qblast(\"blastp\", \"nr\", \"P01308\")\n",
        "\n",
        "# Parse the results\n",
        "blast_records = NCBIXML.parse(result_handle)\n",
        "# iterate through each record in the file\n",
        "for blast_record in blast_records:\n",
        "    # find the E-value of the first alignment\n",
        "    e_value = blast_record.alignments[0].hsps[0].expect\n",
        "    \n",
        "print(\"E-value:\", e_value)"
      ]
    },
    {
      "cell_type": "code",
      "execution_count": 6,
      "metadata": {
        "colab": {
          "base_uri": "https://localhost:8080/"
        },
        "id": "l4F7dmqNRPuO",
        "outputId": "e5d68dd1-cb1b-4f1d-c32d-4d001f91da06"
      },
      "outputs": [
        {
          "output_type": "stream",
          "name": "stdout",
          "text": [
            "Percent Identity 84.40366972477065\n"
          ]
        }
      ],
      "source": [
        "# Percent Identity\n",
        "from Bio.Blast import NCBIWWW, NCBIXML\n",
        "\n",
        "# Perform the BLAST search\n",
        "result_handle = NCBIWWW.qblast(\"blastp\", \"nr\", \"P01308\")\n",
        "\n",
        "# Parse the results\n",
        "blast_records = NCBIXML.parse(result_handle)\n",
        "# iterate through each record in the file\n",
        "for record in blast_records:\n",
        "    for alignment in record.alignments:\n",
        "        for hsp in alignment.hsps:\n",
        "            identity = (hsp.identities / hsp.align_length) * 100\n",
        "            \n",
        "\n",
        "print('Percent Identity', identity)"
      ]
    }
  ],
  "metadata": {
    "colab": {
      "provenance": []
    },
    "kernelspec": {
      "display_name": "Python 3",
      "name": "python3"
    },
    "language_info": {
      "name": "python"
    }
  },
  "nbformat": 4,
  "nbformat_minor": 0
}